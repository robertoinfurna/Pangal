{
 "cells": [
  {
   "cell_type": "code",
   "execution_count": 2,
   "id": "2c67c904-0ec8-4eb6-9f68-def20f07e9c9",
   "metadata": {},
   "outputs": [],
   "source": [
    "from pangal import pangal"
   ]
  },
  {
   "cell_type": "code",
   "execution_count": null,
   "id": "b8af323a-057d-42bd-888e-6638ec819ff1",
   "metadata": {},
   "outputs": [],
   "source": [
    "#from pangal.PFitter import "
   ]
  }
 ],
 "metadata": {
  "kernelspec": {
   "display_name": "Python 3 (ipykernel)",
   "language": "python",
   "name": "python3"
  },
  "language_info": {
   "codemirror_mode": {
    "name": "ipython",
    "version": 3
   },
   "file_extension": ".py",
   "mimetype": "text/x-python",
   "name": "python",
   "nbconvert_exporter": "python",
   "pygments_lexer": "ipython3",
   "version": "3.11.7"
  }
 },
 "nbformat": 4,
 "nbformat_minor": 5
}
